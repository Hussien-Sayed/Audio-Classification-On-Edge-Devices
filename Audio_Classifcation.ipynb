{
  "cells": [
    {
      "cell_type": "markdown",
      "metadata": {
        "id": "view-in-github",
        "colab_type": "text"
      },
      "source": [
        "<a href=\"https://colab.research.google.com/github/Hussien-Sayed/Audio-Classification-On-Edge-Devices/blob/main/Audio_Classifcation.ipynb\" target=\"_parent\"><img src=\"https://colab.research.google.com/assets/colab-badge.svg\" alt=\"Open In Colab\"/></a>"
      ]
    },
    {
      "cell_type": "markdown",
      "metadata": {
        "id": "hwTx7MsqGAjX"
      },
      "source": [
        "## Imports"
      ]
    },
    {
      "cell_type": "code",
      "execution_count": 8,
      "metadata": {
        "id": "f6od5X2N-h27"
      },
      "outputs": [],
      "source": [
        "#imports\n",
        "import cv2\n",
        "import tqdm\n",
        "import random\n",
        "import glob\n",
        "import numpy as np\n",
        "import pandas as pd\n",
        "import matplotlib.pyplot as plt\n",
        "from scipy.io import loadmat\n",
        "from pathlib import Path\n",
        "from typing import Type\n",
        "import torch\n",
        "import torch.nn.functional as F\n",
        "from torch import nn, optim\n",
        "from torch import Tensor\n",
        "import torchvision.transforms as transforms\n",
        "from torch.utils.data import Dataset, DataLoader, random_split\n",
        "import librosa\n",
        "import scipy.io.wavfile as wav\n",
        "import scipy\n",
        "\n",
        "def set_seed(seed):\n",
        "  torch.manual_seed(seed)\n",
        "  torch.cuda.manual_seed(seed)\n",
        "  torch.cuda.manual_seed_all(seed)\n",
        "  np.random.seed(seed)\n",
        "  random.seed(seed)\n",
        "  torch.backends.cudnn.benchmark = False\n",
        "  torch.backends.cudnn.deterministic = True\n",
        "  g = torch.Generator()\n",
        "  g.manual_seed(seed)\n",
        "  return g"
      ]
    },
    {
      "cell_type": "code",
      "execution_count": 2,
      "metadata": {
        "colab": {
          "base_uri": "https://localhost:8080/"
        },
        "id": "qz6_vgg8-h27",
        "outputId": "266cfad8-a70a-4b41-f423-e32367a8415f"
      },
      "outputs": [
        {
          "output_type": "stream",
          "name": "stdout",
          "text": [
            "Mounted at /content/drive\n"
          ]
        }
      ],
      "source": [
        "from google.colab import drive\n",
        "drive.mount('/content/drive')"
      ]
    },
    {
      "cell_type": "markdown",
      "source": [
        "## Loading Data"
      ],
      "metadata": {
        "id": "IrRbLtB6IgCe"
      }
    },
    {
      "cell_type": "code",
      "execution_count": 7,
      "metadata": {
        "id": "KS0BUPvn-h27"
      },
      "outputs": [],
      "source": [
        "!cp -r '/content/drive/MyDrive/zindi/Audio Classification/TechCabal Ewe Audio Files/' ./\n",
        "\n",
        "!cp '/content/drive/MyDrive/zindi/Audio Classification/Train.csv' ./\n",
        "!cp '/content/drive/MyDrive/zindi/Audio Classification/Test_1.csv' ./\n",
        "!cp '/content/drive/MyDrive/zindi/Audio Classification/SampleSubmission_1.csv' ./"
      ]
    },
    {
      "cell_type": "code",
      "execution_count": 9,
      "metadata": {
        "id": "Mpqoyg13-h27"
      },
      "outputs": [],
      "source": [
        "train_df = pd.read_csv('Train.csv')\n",
        "test_df = pd.read_csv('Test_1.csv')"
      ]
    },
    {
      "cell_type": "code",
      "execution_count": 10,
      "metadata": {
        "id": "_DxXbCosXaq7"
      },
      "outputs": [],
      "source": [
        "sub_df = pd.read_csv('SampleSubmission_1.csv')"
      ]
    },
    {
      "cell_type": "code",
      "execution_count": 15,
      "metadata": {
        "colab": {
          "base_uri": "https://localhost:8080/",
          "height": 206
        },
        "id": "IppQNtH3aMru",
        "outputId": "55c77092-b07d-41e2-a12b-0f3d18148387"
      },
      "outputs": [
        {
          "output_type": "execute_result",
          "data": {
            "text/plain": [
              "              id     audio_filepath  duration class\n",
              "0  id_6nazjwygdl  id_6nazjwygdl.wav     1.984  left\n",
              "1  id_jpwl97yilf  id_jpwl97yilf.wav     2.027  down\n",
              "2  id_9d131fb32p  id_9d131fb32p.wav     2.274    go\n",
              "3  id_kat2oty4s0  id_kat2oty4s0.wav     2.176  down\n",
              "4  id_g3hvae3jbe  id_g3hvae3jbe.wav     1.634  down"
            ],
            "text/html": [
              "\n",
              "  <div id=\"df-31f6402c-a2a7-4b70-b807-f511555d41d2\" class=\"colab-df-container\">\n",
              "    <div>\n",
              "<style scoped>\n",
              "    .dataframe tbody tr th:only-of-type {\n",
              "        vertical-align: middle;\n",
              "    }\n",
              "\n",
              "    .dataframe tbody tr th {\n",
              "        vertical-align: top;\n",
              "    }\n",
              "\n",
              "    .dataframe thead th {\n",
              "        text-align: right;\n",
              "    }\n",
              "</style>\n",
              "<table border=\"1\" class=\"dataframe\">\n",
              "  <thead>\n",
              "    <tr style=\"text-align: right;\">\n",
              "      <th></th>\n",
              "      <th>id</th>\n",
              "      <th>audio_filepath</th>\n",
              "      <th>duration</th>\n",
              "      <th>class</th>\n",
              "    </tr>\n",
              "  </thead>\n",
              "  <tbody>\n",
              "    <tr>\n",
              "      <th>0</th>\n",
              "      <td>id_6nazjwygdl</td>\n",
              "      <td>id_6nazjwygdl.wav</td>\n",
              "      <td>1.984</td>\n",
              "      <td>left</td>\n",
              "    </tr>\n",
              "    <tr>\n",
              "      <th>1</th>\n",
              "      <td>id_jpwl97yilf</td>\n",
              "      <td>id_jpwl97yilf.wav</td>\n",
              "      <td>2.027</td>\n",
              "      <td>down</td>\n",
              "    </tr>\n",
              "    <tr>\n",
              "      <th>2</th>\n",
              "      <td>id_9d131fb32p</td>\n",
              "      <td>id_9d131fb32p.wav</td>\n",
              "      <td>2.274</td>\n",
              "      <td>go</td>\n",
              "    </tr>\n",
              "    <tr>\n",
              "      <th>3</th>\n",
              "      <td>id_kat2oty4s0</td>\n",
              "      <td>id_kat2oty4s0.wav</td>\n",
              "      <td>2.176</td>\n",
              "      <td>down</td>\n",
              "    </tr>\n",
              "    <tr>\n",
              "      <th>4</th>\n",
              "      <td>id_g3hvae3jbe</td>\n",
              "      <td>id_g3hvae3jbe.wav</td>\n",
              "      <td>1.634</td>\n",
              "      <td>down</td>\n",
              "    </tr>\n",
              "  </tbody>\n",
              "</table>\n",
              "</div>\n",
              "    <div class=\"colab-df-buttons\">\n",
              "\n",
              "  <div class=\"colab-df-container\">\n",
              "    <button class=\"colab-df-convert\" onclick=\"convertToInteractive('df-31f6402c-a2a7-4b70-b807-f511555d41d2')\"\n",
              "            title=\"Convert this dataframe to an interactive table.\"\n",
              "            style=\"display:none;\">\n",
              "\n",
              "  <svg xmlns=\"http://www.w3.org/2000/svg\" height=\"24px\" viewBox=\"0 -960 960 960\">\n",
              "    <path d=\"M120-120v-720h720v720H120Zm60-500h600v-160H180v160Zm220 220h160v-160H400v160Zm0 220h160v-160H400v160ZM180-400h160v-160H180v160Zm440 0h160v-160H620v160ZM180-180h160v-160H180v160Zm440 0h160v-160H620v160Z\"/>\n",
              "  </svg>\n",
              "    </button>\n",
              "\n",
              "  <style>\n",
              "    .colab-df-container {\n",
              "      display:flex;\n",
              "      gap: 12px;\n",
              "    }\n",
              "\n",
              "    .colab-df-convert {\n",
              "      background-color: #E8F0FE;\n",
              "      border: none;\n",
              "      border-radius: 50%;\n",
              "      cursor: pointer;\n",
              "      display: none;\n",
              "      fill: #1967D2;\n",
              "      height: 32px;\n",
              "      padding: 0 0 0 0;\n",
              "      width: 32px;\n",
              "    }\n",
              "\n",
              "    .colab-df-convert:hover {\n",
              "      background-color: #E2EBFA;\n",
              "      box-shadow: 0px 1px 2px rgba(60, 64, 67, 0.3), 0px 1px 3px 1px rgba(60, 64, 67, 0.15);\n",
              "      fill: #174EA6;\n",
              "    }\n",
              "\n",
              "    .colab-df-buttons div {\n",
              "      margin-bottom: 4px;\n",
              "    }\n",
              "\n",
              "    [theme=dark] .colab-df-convert {\n",
              "      background-color: #3B4455;\n",
              "      fill: #D2E3FC;\n",
              "    }\n",
              "\n",
              "    [theme=dark] .colab-df-convert:hover {\n",
              "      background-color: #434B5C;\n",
              "      box-shadow: 0px 1px 3px 1px rgba(0, 0, 0, 0.15);\n",
              "      filter: drop-shadow(0px 1px 2px rgba(0, 0, 0, 0.3));\n",
              "      fill: #FFFFFF;\n",
              "    }\n",
              "  </style>\n",
              "\n",
              "    <script>\n",
              "      const buttonEl =\n",
              "        document.querySelector('#df-31f6402c-a2a7-4b70-b807-f511555d41d2 button.colab-df-convert');\n",
              "      buttonEl.style.display =\n",
              "        google.colab.kernel.accessAllowed ? 'block' : 'none';\n",
              "\n",
              "      async function convertToInteractive(key) {\n",
              "        const element = document.querySelector('#df-31f6402c-a2a7-4b70-b807-f511555d41d2');\n",
              "        const dataTable =\n",
              "          await google.colab.kernel.invokeFunction('convertToInteractive',\n",
              "                                                    [key], {});\n",
              "        if (!dataTable) return;\n",
              "\n",
              "        const docLinkHtml = 'Like what you see? Visit the ' +\n",
              "          '<a target=\"_blank\" href=https://colab.research.google.com/notebooks/data_table.ipynb>data table notebook</a>'\n",
              "          + ' to learn more about interactive tables.';\n",
              "        element.innerHTML = '';\n",
              "        dataTable['output_type'] = 'display_data';\n",
              "        await google.colab.output.renderOutput(dataTable, element);\n",
              "        const docLink = document.createElement('div');\n",
              "        docLink.innerHTML = docLinkHtml;\n",
              "        element.appendChild(docLink);\n",
              "      }\n",
              "    </script>\n",
              "  </div>\n",
              "\n",
              "\n",
              "<div id=\"df-dc68438e-d951-42ce-963f-58e598c16793\">\n",
              "  <button class=\"colab-df-quickchart\" onclick=\"quickchart('df-dc68438e-d951-42ce-963f-58e598c16793')\"\n",
              "            title=\"Suggest charts\"\n",
              "            style=\"display:none;\">\n",
              "\n",
              "<svg xmlns=\"http://www.w3.org/2000/svg\" height=\"24px\"viewBox=\"0 0 24 24\"\n",
              "     width=\"24px\">\n",
              "    <g>\n",
              "        <path d=\"M19 3H5c-1.1 0-2 .9-2 2v14c0 1.1.9 2 2 2h14c1.1 0 2-.9 2-2V5c0-1.1-.9-2-2-2zM9 17H7v-7h2v7zm4 0h-2V7h2v10zm4 0h-2v-4h2v4z\"/>\n",
              "    </g>\n",
              "</svg>\n",
              "  </button>\n",
              "\n",
              "<style>\n",
              "  .colab-df-quickchart {\n",
              "      --bg-color: #E8F0FE;\n",
              "      --fill-color: #1967D2;\n",
              "      --hover-bg-color: #E2EBFA;\n",
              "      --hover-fill-color: #174EA6;\n",
              "      --disabled-fill-color: #AAA;\n",
              "      --disabled-bg-color: #DDD;\n",
              "  }\n",
              "\n",
              "  [theme=dark] .colab-df-quickchart {\n",
              "      --bg-color: #3B4455;\n",
              "      --fill-color: #D2E3FC;\n",
              "      --hover-bg-color: #434B5C;\n",
              "      --hover-fill-color: #FFFFFF;\n",
              "      --disabled-bg-color: #3B4455;\n",
              "      --disabled-fill-color: #666;\n",
              "  }\n",
              "\n",
              "  .colab-df-quickchart {\n",
              "    background-color: var(--bg-color);\n",
              "    border: none;\n",
              "    border-radius: 50%;\n",
              "    cursor: pointer;\n",
              "    display: none;\n",
              "    fill: var(--fill-color);\n",
              "    height: 32px;\n",
              "    padding: 0;\n",
              "    width: 32px;\n",
              "  }\n",
              "\n",
              "  .colab-df-quickchart:hover {\n",
              "    background-color: var(--hover-bg-color);\n",
              "    box-shadow: 0 1px 2px rgba(60, 64, 67, 0.3), 0 1px 3px 1px rgba(60, 64, 67, 0.15);\n",
              "    fill: var(--button-hover-fill-color);\n",
              "  }\n",
              "\n",
              "  .colab-df-quickchart-complete:disabled,\n",
              "  .colab-df-quickchart-complete:disabled:hover {\n",
              "    background-color: var(--disabled-bg-color);\n",
              "    fill: var(--disabled-fill-color);\n",
              "    box-shadow: none;\n",
              "  }\n",
              "\n",
              "  .colab-df-spinner {\n",
              "    border: 2px solid var(--fill-color);\n",
              "    border-color: transparent;\n",
              "    border-bottom-color: var(--fill-color);\n",
              "    animation:\n",
              "      spin 1s steps(1) infinite;\n",
              "  }\n",
              "\n",
              "  @keyframes spin {\n",
              "    0% {\n",
              "      border-color: transparent;\n",
              "      border-bottom-color: var(--fill-color);\n",
              "      border-left-color: var(--fill-color);\n",
              "    }\n",
              "    20% {\n",
              "      border-color: transparent;\n",
              "      border-left-color: var(--fill-color);\n",
              "      border-top-color: var(--fill-color);\n",
              "    }\n",
              "    30% {\n",
              "      border-color: transparent;\n",
              "      border-left-color: var(--fill-color);\n",
              "      border-top-color: var(--fill-color);\n",
              "      border-right-color: var(--fill-color);\n",
              "    }\n",
              "    40% {\n",
              "      border-color: transparent;\n",
              "      border-right-color: var(--fill-color);\n",
              "      border-top-color: var(--fill-color);\n",
              "    }\n",
              "    60% {\n",
              "      border-color: transparent;\n",
              "      border-right-color: var(--fill-color);\n",
              "    }\n",
              "    80% {\n",
              "      border-color: transparent;\n",
              "      border-right-color: var(--fill-color);\n",
              "      border-bottom-color: var(--fill-color);\n",
              "    }\n",
              "    90% {\n",
              "      border-color: transparent;\n",
              "      border-bottom-color: var(--fill-color);\n",
              "    }\n",
              "  }\n",
              "</style>\n",
              "\n",
              "  <script>\n",
              "    async function quickchart(key) {\n",
              "      const quickchartButtonEl =\n",
              "        document.querySelector('#' + key + ' button');\n",
              "      quickchartButtonEl.disabled = true;  // To prevent multiple clicks.\n",
              "      quickchartButtonEl.classList.add('colab-df-spinner');\n",
              "      try {\n",
              "        const charts = await google.colab.kernel.invokeFunction(\n",
              "            'suggestCharts', [key], {});\n",
              "      } catch (error) {\n",
              "        console.error('Error during call to suggestCharts:', error);\n",
              "      }\n",
              "      quickchartButtonEl.classList.remove('colab-df-spinner');\n",
              "      quickchartButtonEl.classList.add('colab-df-quickchart-complete');\n",
              "    }\n",
              "    (() => {\n",
              "      let quickchartButtonEl =\n",
              "        document.querySelector('#df-dc68438e-d951-42ce-963f-58e598c16793 button');\n",
              "      quickchartButtonEl.style.display =\n",
              "        google.colab.kernel.accessAllowed ? 'block' : 'none';\n",
              "    })();\n",
              "  </script>\n",
              "</div>\n",
              "\n",
              "    </div>\n",
              "  </div>\n"
            ],
            "application/vnd.google.colaboratory.intrinsic+json": {
              "type": "dataframe",
              "variable_name": "train_df",
              "summary": "{\n  \"name\": \"train_df\",\n  \"rows\": 5334,\n  \"fields\": [\n    {\n      \"column\": \"id\",\n      \"properties\": {\n        \"dtype\": \"string\",\n        \"num_unique_values\": 5334,\n        \"samples\": [\n          \"id_fitvfv7ae6\",\n          \"id_ssevljky9v\",\n          \"id_2j4a5lk8as\"\n        ],\n        \"semantic_type\": \"\",\n        \"description\": \"\"\n      }\n    },\n    {\n      \"column\": \"audio_filepath\",\n      \"properties\": {\n        \"dtype\": \"string\",\n        \"num_unique_values\": 5334,\n        \"samples\": [\n          \"id_fitvfv7ae6.wav\",\n          \"id_ssevljky9v.wav\",\n          \"id_2j4a5lk8as.wav\"\n        ],\n        \"semantic_type\": \"\",\n        \"description\": \"\"\n      }\n    },\n    {\n      \"column\": \"duration\",\n      \"properties\": {\n        \"dtype\": \"number\",\n        \"std\": 0.43686061229440476,\n        \"min\": 1.0778333333333334,\n        \"max\": 2.998,\n        \"num_unique_values\": 79,\n        \"samples\": [\n          1.4935,\n          1.984,\n          1.38\n        ],\n        \"semantic_type\": \"\",\n        \"description\": \"\"\n      }\n    },\n    {\n      \"column\": \"class\",\n      \"properties\": {\n        \"dtype\": \"category\",\n        \"num_unique_values\": 8,\n        \"samples\": [\n          \"down\",\n          \"yes\",\n          \"left\"\n        ],\n        \"semantic_type\": \"\",\n        \"description\": \"\"\n      }\n    }\n  ]\n}"
            }
          },
          "metadata": {},
          "execution_count": 15
        }
      ],
      "source": [
        "train_df.head()"
      ]
    },
    {
      "cell_type": "code",
      "execution_count": 16,
      "metadata": {
        "colab": {
          "base_uri": "https://localhost:8080/",
          "height": 206
        },
        "id": "yuXUEOD5aN9y",
        "outputId": "c001d6c5-53a8-429c-bc71-ae8c65e6fbc3"
      },
      "outputs": [
        {
          "output_type": "execute_result",
          "data": {
            "text/plain": [
              "              id     audio_filepath  duration\n",
              "0  id_u5iqtgjzhx  id_u5iqtgjzhx.wav   2.35800\n",
              "1  id_l7ebzcfk5e  id_l7ebzcfk5e.wav   3.22100\n",
              "2  id_jbzci8uepl  id_jbzci8uepl.wav   2.94898\n",
              "3  id_jzil0fw5vs  id_jzil0fw5vs.wav   4.33100\n",
              "4  id_o7mrvf5wj7  id_o7mrvf5wj7.wav   1.85600"
            ],
            "text/html": [
              "\n",
              "  <div id=\"df-32ce4976-1e2a-4f32-bdec-cc6bb0ef8b4d\" class=\"colab-df-container\">\n",
              "    <div>\n",
              "<style scoped>\n",
              "    .dataframe tbody tr th:only-of-type {\n",
              "        vertical-align: middle;\n",
              "    }\n",
              "\n",
              "    .dataframe tbody tr th {\n",
              "        vertical-align: top;\n",
              "    }\n",
              "\n",
              "    .dataframe thead th {\n",
              "        text-align: right;\n",
              "    }\n",
              "</style>\n",
              "<table border=\"1\" class=\"dataframe\">\n",
              "  <thead>\n",
              "    <tr style=\"text-align: right;\">\n",
              "      <th></th>\n",
              "      <th>id</th>\n",
              "      <th>audio_filepath</th>\n",
              "      <th>duration</th>\n",
              "    </tr>\n",
              "  </thead>\n",
              "  <tbody>\n",
              "    <tr>\n",
              "      <th>0</th>\n",
              "      <td>id_u5iqtgjzhx</td>\n",
              "      <td>id_u5iqtgjzhx.wav</td>\n",
              "      <td>2.35800</td>\n",
              "    </tr>\n",
              "    <tr>\n",
              "      <th>1</th>\n",
              "      <td>id_l7ebzcfk5e</td>\n",
              "      <td>id_l7ebzcfk5e.wav</td>\n",
              "      <td>3.22100</td>\n",
              "    </tr>\n",
              "    <tr>\n",
              "      <th>2</th>\n",
              "      <td>id_jbzci8uepl</td>\n",
              "      <td>id_jbzci8uepl.wav</td>\n",
              "      <td>2.94898</td>\n",
              "    </tr>\n",
              "    <tr>\n",
              "      <th>3</th>\n",
              "      <td>id_jzil0fw5vs</td>\n",
              "      <td>id_jzil0fw5vs.wav</td>\n",
              "      <td>4.33100</td>\n",
              "    </tr>\n",
              "    <tr>\n",
              "      <th>4</th>\n",
              "      <td>id_o7mrvf5wj7</td>\n",
              "      <td>id_o7mrvf5wj7.wav</td>\n",
              "      <td>1.85600</td>\n",
              "    </tr>\n",
              "  </tbody>\n",
              "</table>\n",
              "</div>\n",
              "    <div class=\"colab-df-buttons\">\n",
              "\n",
              "  <div class=\"colab-df-container\">\n",
              "    <button class=\"colab-df-convert\" onclick=\"convertToInteractive('df-32ce4976-1e2a-4f32-bdec-cc6bb0ef8b4d')\"\n",
              "            title=\"Convert this dataframe to an interactive table.\"\n",
              "            style=\"display:none;\">\n",
              "\n",
              "  <svg xmlns=\"http://www.w3.org/2000/svg\" height=\"24px\" viewBox=\"0 -960 960 960\">\n",
              "    <path d=\"M120-120v-720h720v720H120Zm60-500h600v-160H180v160Zm220 220h160v-160H400v160Zm0 220h160v-160H400v160ZM180-400h160v-160H180v160Zm440 0h160v-160H620v160ZM180-180h160v-160H180v160Zm440 0h160v-160H620v160Z\"/>\n",
              "  </svg>\n",
              "    </button>\n",
              "\n",
              "  <style>\n",
              "    .colab-df-container {\n",
              "      display:flex;\n",
              "      gap: 12px;\n",
              "    }\n",
              "\n",
              "    .colab-df-convert {\n",
              "      background-color: #E8F0FE;\n",
              "      border: none;\n",
              "      border-radius: 50%;\n",
              "      cursor: pointer;\n",
              "      display: none;\n",
              "      fill: #1967D2;\n",
              "      height: 32px;\n",
              "      padding: 0 0 0 0;\n",
              "      width: 32px;\n",
              "    }\n",
              "\n",
              "    .colab-df-convert:hover {\n",
              "      background-color: #E2EBFA;\n",
              "      box-shadow: 0px 1px 2px rgba(60, 64, 67, 0.3), 0px 1px 3px 1px rgba(60, 64, 67, 0.15);\n",
              "      fill: #174EA6;\n",
              "    }\n",
              "\n",
              "    .colab-df-buttons div {\n",
              "      margin-bottom: 4px;\n",
              "    }\n",
              "\n",
              "    [theme=dark] .colab-df-convert {\n",
              "      background-color: #3B4455;\n",
              "      fill: #D2E3FC;\n",
              "    }\n",
              "\n",
              "    [theme=dark] .colab-df-convert:hover {\n",
              "      background-color: #434B5C;\n",
              "      box-shadow: 0px 1px 3px 1px rgba(0, 0, 0, 0.15);\n",
              "      filter: drop-shadow(0px 1px 2px rgba(0, 0, 0, 0.3));\n",
              "      fill: #FFFFFF;\n",
              "    }\n",
              "  </style>\n",
              "\n",
              "    <script>\n",
              "      const buttonEl =\n",
              "        document.querySelector('#df-32ce4976-1e2a-4f32-bdec-cc6bb0ef8b4d button.colab-df-convert');\n",
              "      buttonEl.style.display =\n",
              "        google.colab.kernel.accessAllowed ? 'block' : 'none';\n",
              "\n",
              "      async function convertToInteractive(key) {\n",
              "        const element = document.querySelector('#df-32ce4976-1e2a-4f32-bdec-cc6bb0ef8b4d');\n",
              "        const dataTable =\n",
              "          await google.colab.kernel.invokeFunction('convertToInteractive',\n",
              "                                                    [key], {});\n",
              "        if (!dataTable) return;\n",
              "\n",
              "        const docLinkHtml = 'Like what you see? Visit the ' +\n",
              "          '<a target=\"_blank\" href=https://colab.research.google.com/notebooks/data_table.ipynb>data table notebook</a>'\n",
              "          + ' to learn more about interactive tables.';\n",
              "        element.innerHTML = '';\n",
              "        dataTable['output_type'] = 'display_data';\n",
              "        await google.colab.output.renderOutput(dataTable, element);\n",
              "        const docLink = document.createElement('div');\n",
              "        docLink.innerHTML = docLinkHtml;\n",
              "        element.appendChild(docLink);\n",
              "      }\n",
              "    </script>\n",
              "  </div>\n",
              "\n",
              "\n",
              "<div id=\"df-f13b43b0-dcde-4716-8919-e0bc316788ca\">\n",
              "  <button class=\"colab-df-quickchart\" onclick=\"quickchart('df-f13b43b0-dcde-4716-8919-e0bc316788ca')\"\n",
              "            title=\"Suggest charts\"\n",
              "            style=\"display:none;\">\n",
              "\n",
              "<svg xmlns=\"http://www.w3.org/2000/svg\" height=\"24px\"viewBox=\"0 0 24 24\"\n",
              "     width=\"24px\">\n",
              "    <g>\n",
              "        <path d=\"M19 3H5c-1.1 0-2 .9-2 2v14c0 1.1.9 2 2 2h14c1.1 0 2-.9 2-2V5c0-1.1-.9-2-2-2zM9 17H7v-7h2v7zm4 0h-2V7h2v10zm4 0h-2v-4h2v4z\"/>\n",
              "    </g>\n",
              "</svg>\n",
              "  </button>\n",
              "\n",
              "<style>\n",
              "  .colab-df-quickchart {\n",
              "      --bg-color: #E8F0FE;\n",
              "      --fill-color: #1967D2;\n",
              "      --hover-bg-color: #E2EBFA;\n",
              "      --hover-fill-color: #174EA6;\n",
              "      --disabled-fill-color: #AAA;\n",
              "      --disabled-bg-color: #DDD;\n",
              "  }\n",
              "\n",
              "  [theme=dark] .colab-df-quickchart {\n",
              "      --bg-color: #3B4455;\n",
              "      --fill-color: #D2E3FC;\n",
              "      --hover-bg-color: #434B5C;\n",
              "      --hover-fill-color: #FFFFFF;\n",
              "      --disabled-bg-color: #3B4455;\n",
              "      --disabled-fill-color: #666;\n",
              "  }\n",
              "\n",
              "  .colab-df-quickchart {\n",
              "    background-color: var(--bg-color);\n",
              "    border: none;\n",
              "    border-radius: 50%;\n",
              "    cursor: pointer;\n",
              "    display: none;\n",
              "    fill: var(--fill-color);\n",
              "    height: 32px;\n",
              "    padding: 0;\n",
              "    width: 32px;\n",
              "  }\n",
              "\n",
              "  .colab-df-quickchart:hover {\n",
              "    background-color: var(--hover-bg-color);\n",
              "    box-shadow: 0 1px 2px rgba(60, 64, 67, 0.3), 0 1px 3px 1px rgba(60, 64, 67, 0.15);\n",
              "    fill: var(--button-hover-fill-color);\n",
              "  }\n",
              "\n",
              "  .colab-df-quickchart-complete:disabled,\n",
              "  .colab-df-quickchart-complete:disabled:hover {\n",
              "    background-color: var(--disabled-bg-color);\n",
              "    fill: var(--disabled-fill-color);\n",
              "    box-shadow: none;\n",
              "  }\n",
              "\n",
              "  .colab-df-spinner {\n",
              "    border: 2px solid var(--fill-color);\n",
              "    border-color: transparent;\n",
              "    border-bottom-color: var(--fill-color);\n",
              "    animation:\n",
              "      spin 1s steps(1) infinite;\n",
              "  }\n",
              "\n",
              "  @keyframes spin {\n",
              "    0% {\n",
              "      border-color: transparent;\n",
              "      border-bottom-color: var(--fill-color);\n",
              "      border-left-color: var(--fill-color);\n",
              "    }\n",
              "    20% {\n",
              "      border-color: transparent;\n",
              "      border-left-color: var(--fill-color);\n",
              "      border-top-color: var(--fill-color);\n",
              "    }\n",
              "    30% {\n",
              "      border-color: transparent;\n",
              "      border-left-color: var(--fill-color);\n",
              "      border-top-color: var(--fill-color);\n",
              "      border-right-color: var(--fill-color);\n",
              "    }\n",
              "    40% {\n",
              "      border-color: transparent;\n",
              "      border-right-color: var(--fill-color);\n",
              "      border-top-color: var(--fill-color);\n",
              "    }\n",
              "    60% {\n",
              "      border-color: transparent;\n",
              "      border-right-color: var(--fill-color);\n",
              "    }\n",
              "    80% {\n",
              "      border-color: transparent;\n",
              "      border-right-color: var(--fill-color);\n",
              "      border-bottom-color: var(--fill-color);\n",
              "    }\n",
              "    90% {\n",
              "      border-color: transparent;\n",
              "      border-bottom-color: var(--fill-color);\n",
              "    }\n",
              "  }\n",
              "</style>\n",
              "\n",
              "  <script>\n",
              "    async function quickchart(key) {\n",
              "      const quickchartButtonEl =\n",
              "        document.querySelector('#' + key + ' button');\n",
              "      quickchartButtonEl.disabled = true;  // To prevent multiple clicks.\n",
              "      quickchartButtonEl.classList.add('colab-df-spinner');\n",
              "      try {\n",
              "        const charts = await google.colab.kernel.invokeFunction(\n",
              "            'suggestCharts', [key], {});\n",
              "      } catch (error) {\n",
              "        console.error('Error during call to suggestCharts:', error);\n",
              "      }\n",
              "      quickchartButtonEl.classList.remove('colab-df-spinner');\n",
              "      quickchartButtonEl.classList.add('colab-df-quickchart-complete');\n",
              "    }\n",
              "    (() => {\n",
              "      let quickchartButtonEl =\n",
              "        document.querySelector('#df-f13b43b0-dcde-4716-8919-e0bc316788ca button');\n",
              "      quickchartButtonEl.style.display =\n",
              "        google.colab.kernel.accessAllowed ? 'block' : 'none';\n",
              "    })();\n",
              "  </script>\n",
              "</div>\n",
              "\n",
              "    </div>\n",
              "  </div>\n"
            ],
            "application/vnd.google.colaboratory.intrinsic+json": {
              "type": "dataframe",
              "variable_name": "test_df",
              "summary": "{\n  \"name\": \"test_df\",\n  \"rows\": 2946,\n  \"fields\": [\n    {\n      \"column\": \"id\",\n      \"properties\": {\n        \"dtype\": \"string\",\n        \"num_unique_values\": 2946,\n        \"samples\": [\n          \"id_b0m5pb8tdu\",\n          \"id_96bywi2lu8\",\n          \"id_ijixi0s3di\"\n        ],\n        \"semantic_type\": \"\",\n        \"description\": \"\"\n      }\n    },\n    {\n      \"column\": \"audio_filepath\",\n      \"properties\": {\n        \"dtype\": \"string\",\n        \"num_unique_values\": 2946,\n        \"samples\": [\n          \"id_b0m5pb8tdu.wav\",\n          \"id_96bywi2lu8.wav\",\n          \"id_ijixi0s3di.wav\"\n        ],\n        \"semantic_type\": \"\",\n        \"description\": \"\"\n      }\n    },\n    {\n      \"column\": \"duration\",\n      \"properties\": {\n        \"dtype\": \"number\",\n        \"std\": 1.0472432285902689,\n        \"min\": 1.0778333333333334,\n        \"max\": 7.765,\n        \"num_unique_values\": 100,\n        \"samples\": [\n          1.2978333333333334,\n          1.934,\n          2.854\n        ],\n        \"semantic_type\": \"\",\n        \"description\": \"\"\n      }\n    }\n  ]\n}"
            }
          },
          "metadata": {},
          "execution_count": 16
        }
      ],
      "source": [
        "test_df.head()"
      ]
    },
    {
      "cell_type": "code",
      "execution_count": 17,
      "metadata": {
        "id": "aIzAjAixflni"
      },
      "outputs": [],
      "source": [
        "new_tests = glob.glob('/content/test_2/*')\n",
        "new_tests_name = [t.split('/')[-1].split('.')[0] for t in new_tests]"
      ]
    },
    {
      "cell_type": "code",
      "execution_count": 20,
      "metadata": {
        "colab": {
          "base_uri": "https://localhost:8080/",
          "height": 76
        },
        "id": "n4fKFI1mkPHE",
        "outputId": "78814504-3e51-439c-d56a-cf4595491d9d"
      },
      "outputs": [
        {
          "output_type": "execute_result",
          "data": {
            "text/plain": [
              "<IPython.lib.display.Audio object>"
            ],
            "text/html": [
              "\n",
              "                <audio  controls=\"controls\" >\n",
              "                    <source src=\"data:audio/x-wav;base64,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\" type=\"audio/x-wav\" />\n",
              "                    Your browser does not support the audio element.\n",
              "                </audio>\n",
              "              "
            ]
          },
          "metadata": {},
          "execution_count": 20
        }
      ],
      "source": [
        "# Listen to a sample\n",
        "ix = 100\n",
        "pth = train_df['audio_filepath'].iloc[ix]\n",
        "import IPython.display as ipd\n",
        "ipd.Audio(f'/content/TechCabal Ewe Audio Files/{pth}')\n"
      ]
    },
    {
      "cell_type": "code",
      "execution_count": 21,
      "metadata": {
        "id": "hh_zymw19PSF"
      },
      "outputs": [],
      "source": [
        "!mkdir soundfiles/"
      ]
    },
    {
      "cell_type": "markdown",
      "source": [
        "## Processing Data"
      ],
      "metadata": {
        "id": "LMNFPSnHIndj"
      }
    },
    {
      "cell_type": "code",
      "execution_count": 22,
      "metadata": {
        "colab": {
          "base_uri": "https://localhost:8080/"
        },
        "id": "A6g8FTpfCopQ",
        "outputId": "476105a6-6557-4058-abcf-d99a9dd3efed"
      },
      "outputs": [
        {
          "output_type": "stream",
          "name": "stderr",
          "text": [
            "100%|██████████| 8280/8280 [01:01<00:00, 135.01it/s]\n"
          ]
        },
        {
          "output_type": "execute_result",
          "data": {
            "text/plain": [
              "8280"
            ]
          },
          "metadata": {},
          "execution_count": 22
        }
      ],
      "source": [
        "def load_audio(file_path):\n",
        "    sr, y = wav.read(file_path)\n",
        "    if y.dtype == np.int16:\n",
        "        y = y / 32768.0\n",
        "    elif y.dtype == np.int32:\n",
        "        y = y / 2147483648.0\n",
        "    elif y.dtype == np.uint8:\n",
        "        y = (y - 128) / 128.0\n",
        "    if y.ndim == 2:\n",
        "        y = y.mean(axis=1)\n",
        "    return y\n",
        "\n",
        "sound_files = glob.glob('./TechCabal Ewe Audio Files/*.wav')\n",
        "for sound_file in tqdm.tqdm(sound_files):\n",
        "      y = load_audio(sound_file)\n",
        "      S = scipy.signal.spectrogram(y)[2]\n",
        "      S = cv2.resize(S,(100,128))\n",
        "      np.save(Path('soundfiles') / Path(sound_file).parts[-1].replace('.wav','.npy'),[S])\n",
        "len(glob.glob('soundfiles/*'))\n"
      ]
    },
    {
      "cell_type": "code",
      "execution_count": 23,
      "metadata": {
        "id": "ox7DliHM-6Ou"
      },
      "outputs": [],
      "source": [
        "class_mapper =        {'left':0,\n",
        "                       'down':1,\n",
        "                       'go':2,\n",
        "                       'right':3,\n",
        "                       'up':4,\n",
        "                       'yes':5,\n",
        "                       'no':6,\n",
        "                       'stop':7,}\n",
        "\n",
        "train_df['label'] = train_df['class'].map(class_mapper)"
      ]
    },
    {
      "cell_type": "markdown",
      "source": [
        "## Modelling"
      ],
      "metadata": {
        "id": "YQHWv1euIsXn"
      }
    },
    {
      "cell_type": "code",
      "execution_count": 24,
      "metadata": {
        "id": "oZuRDVt7-F57"
      },
      "outputs": [],
      "source": [
        "class BasicBlock(nn.Module):\n",
        "    def __init__(\n",
        "        self,\n",
        "        in_channels: int,\n",
        "        out_channels: int,\n",
        "        stride: int = 1,\n",
        "        expansion: int = 1,\n",
        "        downsample: nn.Module = None\n",
        "    ) -> None:\n",
        "        super(BasicBlock, self).__init__()\n",
        "\n",
        "        self.expansion = expansion\n",
        "        self.downsample = downsample\n",
        "        self.conv1 = nn.Conv2d(\n",
        "            in_channels,\n",
        "            out_channels,\n",
        "            kernel_size=3,\n",
        "            stride=stride,\n",
        "            padding=1,\n",
        "            bias=False\n",
        "        )\n",
        "        self.bn1 = nn.BatchNorm2d(out_channels)\n",
        "        self.relu = nn.ReLU(inplace=True)\n",
        "\n",
        "    def forward(self, x: Tensor) -> Tensor:\n",
        "        identity = x\n",
        "\n",
        "        out = self.conv1(x)\n",
        "        out = self.bn1(out)\n",
        "\n",
        "        if self.downsample is not None:\n",
        "            identity = self.downsample(x)\n",
        "\n",
        "        out += identity\n",
        "        out = self.relu(out)\n",
        "        return  out\n",
        "\n",
        "\n",
        "\n",
        "class ResNet(nn.Module):\n",
        "    def __init__(\n",
        "        self,\n",
        "        img_channels: int,\n",
        "        block: Type[BasicBlock],\n",
        "        num_classes: int  = 1000\n",
        "    ) -> None:\n",
        "        super(ResNet, self).__init__()\n",
        "        layers = [1, 1, 1]\n",
        "        self.expansion = 1\n",
        "\n",
        "        self.in_channels = 8\n",
        "        self.conv1 = nn.Conv2d(\n",
        "            in_channels=img_channels,\n",
        "            out_channels=self.in_channels,\n",
        "            kernel_size=7,\n",
        "            stride=2,\n",
        "            padding=3,\n",
        "            bias=False\n",
        "        )\n",
        "        self.bn1 = nn.BatchNorm2d(self.in_channels)\n",
        "        self.relu = nn.ReLU(inplace=True)\n",
        "        self.maxpool = nn.MaxPool2d(kernel_size=3, stride=2, padding=1)\n",
        "\n",
        "        self.layer1 = self._make_layer(block, 8, layers[0])\n",
        "        self.layer2 = self._make_layer(block, 16, layers[1], stride=2)\n",
        "        self.layer3 = self._make_layer(block, 32, layers[2], stride=2)\n",
        "\n",
        "        self.avgpool = nn.AdaptiveAvgPool2d((1, 1))\n",
        "        self.fc = nn.Linear(32*self.expansion, num_classes)\n",
        "\n",
        "    def _make_layer(\n",
        "        self,\n",
        "        block: Type[BasicBlock],\n",
        "        out_channels: int,\n",
        "        blocks: int,\n",
        "        stride: int = 1\n",
        "    ) -> nn.Sequential:\n",
        "        downsample = None\n",
        "        if stride != 1:\n",
        "\n",
        "            downsample = nn.Sequential(\n",
        "                nn.Conv2d(\n",
        "                    self.in_channels,\n",
        "                    out_channels*self.expansion,\n",
        "                    kernel_size=1,\n",
        "                    stride=stride,\n",
        "                    bias=False\n",
        "                ),\n",
        "                nn.BatchNorm2d(out_channels * self.expansion),\n",
        "            )\n",
        "        layers = []\n",
        "        layers.append(\n",
        "            block(\n",
        "                self.in_channels, out_channels, stride, self.expansion, downsample\n",
        "            )\n",
        "        )\n",
        "        self.in_channels = out_channels * self.expansion\n",
        "\n",
        "        for i in range(1, blocks):\n",
        "            layers.append(block(\n",
        "                self.in_channels,\n",
        "                out_channels,\n",
        "                expansion=self.expansion\n",
        "            ))\n",
        "        return nn.Sequential(*layers)\n",
        "\n",
        "    def forward(self, x: Tensor) -> Tensor:\n",
        "        x = self.conv1(x)\n",
        "        x = self.bn1(x)\n",
        "        x = self.relu(x)\n",
        "        x = self.maxpool(x)\n",
        "\n",
        "        x = self.layer1(x)\n",
        "        x = self.layer2(x)\n",
        "        x = self.layer3(x)\n",
        "\n",
        "        x = self.avgpool(x)\n",
        "        x = torch.flatten(x, 1)\n",
        "        x = self.fc(x)\n",
        "\n",
        "        return x\n"
      ]
    },
    {
      "cell_type": "code",
      "execution_count": 25,
      "metadata": {
        "id": "fTO6qYXV-dJc"
      },
      "outputs": [],
      "source": [
        "class data_set_train(Dataset):\n",
        "    def __init__(self,explore_mode = False,test=False):\n",
        "        self.specs = train_df.audio_filepath.values\n",
        "        self.labels = train_df.label.values\n",
        "        self.explore_mode = explore_mode\n",
        "\n",
        "    def __len__(self):\n",
        "        return len(self.specs)\n",
        "\n",
        "    def __getitem__(self, index):\n",
        "        sound_file =  'soundfiles/' + self.specs[index].replace('.wav','.npy')\n",
        "        spec = np.load(sound_file)\n",
        "        label = self.labels[index]\n",
        "        if self.explore_mode:\n",
        "            return spec,label,sound_file\n",
        "        else:\n",
        "            return spec,label\n"
      ]
    },
    {
      "cell_type": "code",
      "execution_count": 26,
      "metadata": {
        "id": "rJn7UE24-dJn"
      },
      "outputs": [],
      "source": [
        "model = ResNet(img_channels= 1,block=BasicBlock,num_classes = 8)\n",
        "\n",
        "g = set_seed(0)\n",
        "\n",
        "num_epochs = 60\n",
        "lr = 0.001\n",
        "weight_decay = 5e-4\n",
        "batch_size = 16\n",
        "\n",
        "if torch.cuda.is_available():\n",
        "  model = model.cuda()\n",
        "optimizer = optim.Adam(model.parameters(),lr=lr,weight_decay=weight_decay)\n",
        "scheduler = torch.optim.lr_scheduler.ReduceLROnPlateau(optimizer, 'min', patience = 3,factor=0.1)\n",
        "\n",
        "DataSet = data_set_train()\n",
        "train_DataSet, val_DataSet = random_split(DataSet,[4000,1334])\n",
        "\n",
        "train_loader = DataLoader(train_DataSet, batch_size=batch_size, shuffle=True, drop_last=True, generator=g)\n",
        "val_loader = DataLoader(val_DataSet, batch_size=batch_size, shuffle=True, drop_last=False, generator=g)\n",
        "test_len_data = val_DataSet.__len__()\n",
        "\n",
        "loss_fn = nn.CrossEntropyLoss()"
      ]
    },
    {
      "cell_type": "code",
      "execution_count": 27,
      "metadata": {
        "colab": {
          "base_uri": "https://localhost:8080/"
        },
        "id": "D93dBeFw-dJn",
        "outputId": "dddfc68c-3bea-421f-badc-ea75fab79494"
      },
      "outputs": [
        {
          "output_type": "stream",
          "name": "stdout",
          "text": [
            "---------- Epoch :1/60 ----------\n",
            "learning rate:  0.001\n"
          ]
        },
        {
          "output_type": "stream",
          "name": "stderr",
          "text": [
            "100%|██████████| 250/250 [00:04<00:00, 56.37it/s] \n"
          ]
        },
        {
          "output_type": "stream",
          "name": "stdout",
          "text": [
            "train loss:  1.8876666\n",
            "validation loss:  1.6610978\n",
            "validation accuracy:  55.62218890554723 %\n",
            "---------- Epoch :2/60 ----------\n",
            "learning rate:  0.001\n"
          ]
        },
        {
          "output_type": "stream",
          "name": "stderr",
          "text": [
            "100%|██████████| 250/250 [00:01<00:00, 128.93it/s]\n"
          ]
        },
        {
          "output_type": "stream",
          "name": "stdout",
          "text": [
            "train loss:  1.3428762\n",
            "validation loss:  1.076502\n",
            "validation accuracy:  74.5127436281859 %\n",
            "---------- Epoch :3/60 ----------\n",
            "learning rate:  0.001\n"
          ]
        },
        {
          "output_type": "stream",
          "name": "stderr",
          "text": [
            "100%|██████████| 250/250 [00:01<00:00, 129.43it/s]\n"
          ]
        },
        {
          "output_type": "stream",
          "name": "stdout",
          "text": [
            "train loss:  0.9326597\n",
            "validation loss:  0.84317636\n",
            "validation accuracy:  80.0599700149925 %\n",
            "---------- Epoch :4/60 ----------\n",
            "learning rate:  0.001\n"
          ]
        },
        {
          "output_type": "stream",
          "name": "stderr",
          "text": [
            "100%|██████████| 250/250 [00:02<00:00, 111.25it/s]\n"
          ]
        },
        {
          "output_type": "stream",
          "name": "stdout",
          "text": [
            "train loss:  0.6915309\n",
            "validation loss:  0.57602996\n",
            "validation accuracy:  85.45727136431785 %\n",
            "---------- Epoch :5/60 ----------\n",
            "learning rate:  0.001\n"
          ]
        },
        {
          "output_type": "stream",
          "name": "stderr",
          "text": [
            "100%|██████████| 250/250 [00:02<00:00, 87.48it/s]\n"
          ]
        },
        {
          "output_type": "stream",
          "name": "stdout",
          "text": [
            "train loss:  0.5335353\n",
            "validation loss:  0.47590396\n",
            "validation accuracy:  86.65667166416792 %\n",
            "---------- Epoch :6/60 ----------\n",
            "learning rate:  0.001\n"
          ]
        },
        {
          "output_type": "stream",
          "name": "stderr",
          "text": [
            "100%|██████████| 250/250 [00:02<00:00, 84.14it/s] \n"
          ]
        },
        {
          "output_type": "stream",
          "name": "stdout",
          "text": [
            "train loss:  0.45030499\n",
            "validation loss:  0.43901858\n",
            "validation accuracy:  88.68065967016491 %\n",
            "---------- Epoch :7/60 ----------\n",
            "learning rate:  0.001\n"
          ]
        },
        {
          "output_type": "stream",
          "name": "stderr",
          "text": [
            "100%|██████████| 250/250 [00:01<00:00, 127.74it/s]\n"
          ]
        },
        {
          "output_type": "stream",
          "name": "stdout",
          "text": [
            "train loss:  0.38739386\n",
            "validation loss:  0.40072477\n",
            "validation accuracy:  89.73013493253373 %\n",
            "---------- Epoch :8/60 ----------\n",
            "learning rate:  0.001\n"
          ]
        },
        {
          "output_type": "stream",
          "name": "stderr",
          "text": [
            "100%|██████████| 250/250 [00:01<00:00, 130.02it/s]\n"
          ]
        },
        {
          "output_type": "stream",
          "name": "stdout",
          "text": [
            "train loss:  0.3516932\n",
            "validation loss:  0.3428623\n",
            "validation accuracy:  90.85457271364318 %\n",
            "---------- Epoch :9/60 ----------\n",
            "learning rate:  0.001\n"
          ]
        },
        {
          "output_type": "stream",
          "name": "stderr",
          "text": [
            "100%|██████████| 250/250 [00:01<00:00, 130.12it/s]\n"
          ]
        },
        {
          "output_type": "stream",
          "name": "stdout",
          "text": [
            "train loss:  0.28436875\n",
            "validation loss:  0.33537892\n",
            "validation accuracy:  90.62968515742129 %\n",
            "---------- Epoch :10/60 ----------\n",
            "learning rate:  0.001\n"
          ]
        },
        {
          "output_type": "stream",
          "name": "stderr",
          "text": [
            "100%|██████████| 250/250 [00:02<00:00, 124.97it/s]\n"
          ]
        },
        {
          "output_type": "stream",
          "name": "stdout",
          "text": [
            "train loss:  0.24809492\n",
            "validation loss:  0.29398662\n",
            "validation accuracy:  92.35382308845578 %\n",
            "---------- Epoch :11/60 ----------\n",
            "learning rate:  0.001\n"
          ]
        },
        {
          "output_type": "stream",
          "name": "stderr",
          "text": [
            "100%|██████████| 250/250 [00:02<00:00, 100.92it/s]\n"
          ]
        },
        {
          "output_type": "stream",
          "name": "stdout",
          "text": [
            "train loss:  0.25115705\n",
            "validation loss:  0.2566064\n",
            "validation accuracy:  93.10344827586206 %\n",
            "---------- Epoch :12/60 ----------\n",
            "learning rate:  0.001\n"
          ]
        },
        {
          "output_type": "stream",
          "name": "stderr",
          "text": [
            "100%|██████████| 250/250 [00:03<00:00, 72.66it/s]\n"
          ]
        },
        {
          "output_type": "stream",
          "name": "stdout",
          "text": [
            "train loss:  0.1919637\n",
            "validation loss:  0.21669877\n",
            "validation accuracy:  94.22788605697151 %\n",
            "---------- Epoch :13/60 ----------\n",
            "learning rate:  0.001\n"
          ]
        },
        {
          "output_type": "stream",
          "name": "stderr",
          "text": [
            "100%|██████████| 250/250 [00:02<00:00, 122.30it/s]\n"
          ]
        },
        {
          "output_type": "stream",
          "name": "stdout",
          "text": [
            "train loss:  0.18199979\n",
            "validation loss:  0.38464165\n",
            "validation accuracy:  87.33133433283359 %\n",
            "---------- Epoch :14/60 ----------\n",
            "learning rate:  0.001\n"
          ]
        },
        {
          "output_type": "stream",
          "name": "stderr",
          "text": [
            "100%|██████████| 250/250 [00:01<00:00, 131.41it/s]\n"
          ]
        },
        {
          "output_type": "stream",
          "name": "stdout",
          "text": [
            "train loss:  0.17639779\n",
            "validation loss:  0.23039319\n",
            "validation accuracy:  93.62818590704649 %\n",
            "---------- Epoch :15/60 ----------\n",
            "learning rate:  0.001\n"
          ]
        },
        {
          "output_type": "stream",
          "name": "stderr",
          "text": [
            "100%|██████████| 250/250 [00:01<00:00, 131.16it/s]\n"
          ]
        },
        {
          "output_type": "stream",
          "name": "stdout",
          "text": [
            "train loss:  0.16197425\n",
            "validation loss:  0.17859808\n",
            "validation accuracy:  95.7271364317841 %\n",
            "---------- Epoch :16/60 ----------\n",
            "learning rate:  0.001\n"
          ]
        },
        {
          "output_type": "stream",
          "name": "stderr",
          "text": [
            "100%|██████████| 250/250 [00:01<00:00, 129.22it/s]\n"
          ]
        },
        {
          "output_type": "stream",
          "name": "stdout",
          "text": [
            "train loss:  0.15718654\n",
            "validation loss:  0.21015297\n",
            "validation accuracy:  93.85307346326837 %\n",
            "---------- Epoch :17/60 ----------\n",
            "learning rate:  0.001\n"
          ]
        },
        {
          "output_type": "stream",
          "name": "stderr",
          "text": [
            "100%|██████████| 250/250 [00:02<00:00, 107.75it/s]\n"
          ]
        },
        {
          "output_type": "stream",
          "name": "stdout",
          "text": [
            "train loss:  0.13580103\n",
            "validation loss:  0.52385634\n",
            "validation accuracy:  81.85907046476761 %\n",
            "---------- Epoch :18/60 ----------\n",
            "learning rate:  0.001\n"
          ]
        },
        {
          "output_type": "stream",
          "name": "stderr",
          "text": [
            "100%|██████████| 250/250 [00:02<00:00, 84.44it/s]\n"
          ]
        },
        {
          "output_type": "stream",
          "name": "stdout",
          "text": [
            "train loss:  0.13369127\n",
            "validation loss:  0.11577576\n",
            "validation accuracy:  97.82608695652173 %\n",
            "---------- Epoch :19/60 ----------\n",
            "learning rate:  0.001\n"
          ]
        },
        {
          "output_type": "stream",
          "name": "stderr",
          "text": [
            "100%|██████████| 250/250 [00:02<00:00, 90.04it/s] \n"
          ]
        },
        {
          "output_type": "stream",
          "name": "stdout",
          "text": [
            "train loss:  0.112827286\n",
            "validation loss:  0.26484522\n",
            "validation accuracy:  91.60419790104947 %\n",
            "---------- Epoch :20/60 ----------\n",
            "learning rate:  0.001\n"
          ]
        },
        {
          "output_type": "stream",
          "name": "stderr",
          "text": [
            "100%|██████████| 250/250 [00:01<00:00, 130.29it/s]\n"
          ]
        },
        {
          "output_type": "stream",
          "name": "stdout",
          "text": [
            "train loss:  0.10633287\n",
            "validation loss:  0.12340923\n",
            "validation accuracy:  97.52623688155923 %\n",
            "---------- Epoch :21/60 ----------\n",
            "learning rate:  0.001\n"
          ]
        },
        {
          "output_type": "stream",
          "name": "stderr",
          "text": [
            "100%|██████████| 250/250 [00:01<00:00, 126.28it/s]\n"
          ]
        },
        {
          "output_type": "stream",
          "name": "stdout",
          "text": [
            "train loss:  0.09318439\n",
            "validation loss:  0.18734927\n",
            "validation accuracy:  95.57721139430285 %\n",
            "---------- Epoch :22/60 ----------\n",
            "learning rate:  0.001\n"
          ]
        },
        {
          "output_type": "stream",
          "name": "stderr",
          "text": [
            "100%|██████████| 250/250 [00:01<00:00, 129.41it/s]\n"
          ]
        },
        {
          "output_type": "stream",
          "name": "stdout",
          "text": [
            "train loss:  0.13999997\n",
            "validation loss:  0.1376246\n",
            "validation accuracy:  97.15142428785607 %\n",
            "---------- Epoch :23/60 ----------\n",
            "learning rate:  0.0001\n"
          ]
        },
        {
          "output_type": "stream",
          "name": "stderr",
          "text": [
            "100%|██████████| 250/250 [00:02<00:00, 123.17it/s]\n"
          ]
        },
        {
          "output_type": "stream",
          "name": "stdout",
          "text": [
            "train loss:  0.074972354\n",
            "validation loss:  0.09088162\n",
            "validation accuracy:  98.80059970014993 %\n",
            "---------- Epoch :24/60 ----------\n",
            "learning rate:  0.0001\n"
          ]
        },
        {
          "output_type": "stream",
          "name": "stderr",
          "text": [
            "100%|██████████| 250/250 [00:02<00:00, 96.58it/s]\n"
          ]
        },
        {
          "output_type": "stream",
          "name": "stdout",
          "text": [
            "train loss:  0.06419888\n",
            "validation loss:  0.08906581\n",
            "validation accuracy:  98.50074962518741 %\n",
            "---------- Epoch :25/60 ----------\n",
            "learning rate:  0.0001\n"
          ]
        },
        {
          "output_type": "stream",
          "name": "stderr",
          "text": [
            "100%|██████████| 250/250 [00:03<00:00, 74.35it/s]\n"
          ]
        },
        {
          "output_type": "stream",
          "name": "stdout",
          "text": [
            "train loss:  0.053930037\n",
            "validation loss:  0.08345763\n",
            "validation accuracy:  98.80059970014993 %\n",
            "---------- Epoch :26/60 ----------\n",
            "learning rate:  0.0001\n"
          ]
        },
        {
          "output_type": "stream",
          "name": "stderr",
          "text": [
            "100%|██████████| 250/250 [00:01<00:00, 127.77it/s]\n"
          ]
        },
        {
          "output_type": "stream",
          "name": "stdout",
          "text": [
            "train loss:  0.055556573\n",
            "validation loss:  0.08481136\n",
            "validation accuracy:  98.65067466266866 %\n",
            "---------- Epoch :27/60 ----------\n",
            "learning rate:  0.0001\n"
          ]
        },
        {
          "output_type": "stream",
          "name": "stderr",
          "text": [
            "100%|██████████| 250/250 [00:01<00:00, 132.06it/s]\n"
          ]
        },
        {
          "output_type": "stream",
          "name": "stdout",
          "text": [
            "train loss:  0.05380737\n",
            "validation loss:  0.07816225\n",
            "validation accuracy:  98.80059970014993 %\n",
            "---------- Epoch :28/60 ----------\n",
            "learning rate:  0.0001\n"
          ]
        },
        {
          "output_type": "stream",
          "name": "stderr",
          "text": [
            "100%|██████████| 250/250 [00:01<00:00, 130.83it/s]\n"
          ]
        },
        {
          "output_type": "stream",
          "name": "stdout",
          "text": [
            "train loss:  0.051596295\n",
            "validation loss:  0.078423165\n",
            "validation accuracy:  98.87556221889055 %\n",
            "---------- Epoch :29/60 ----------\n",
            "learning rate:  0.0001\n"
          ]
        },
        {
          "output_type": "stream",
          "name": "stderr",
          "text": [
            "100%|██████████| 250/250 [00:01<00:00, 130.19it/s]\n"
          ]
        },
        {
          "output_type": "stream",
          "name": "stdout",
          "text": [
            "train loss:  0.052981038\n",
            "validation loss:  0.08248823\n",
            "validation accuracy:  98.80059970014993 %\n",
            "---------- Epoch :30/60 ----------\n",
            "learning rate:  0.0001\n"
          ]
        },
        {
          "output_type": "stream",
          "name": "stderr",
          "text": [
            "100%|██████████| 250/250 [00:02<00:00, 103.82it/s]\n"
          ]
        },
        {
          "output_type": "stream",
          "name": "stdout",
          "text": [
            "train loss:  0.04884317\n",
            "validation loss:  0.079119645\n",
            "validation accuracy:  98.87556221889055 %\n",
            "---------- Epoch :31/60 ----------\n",
            "learning rate:  0.0001\n"
          ]
        },
        {
          "output_type": "stream",
          "name": "stderr",
          "text": [
            "100%|██████████| 250/250 [00:02<00:00, 83.66it/s]\n"
          ]
        },
        {
          "output_type": "stream",
          "name": "stdout",
          "text": [
            "train loss:  0.04782546\n",
            "validation loss:  0.0758912\n",
            "validation accuracy:  98.95052473763118 %\n",
            "---------- Epoch :32/60 ----------\n",
            "learning rate:  0.0001\n"
          ]
        },
        {
          "output_type": "stream",
          "name": "stderr",
          "text": [
            "100%|██████████| 250/250 [00:02<00:00, 87.88it/s] \n"
          ]
        },
        {
          "output_type": "stream",
          "name": "stdout",
          "text": [
            "train loss:  0.04452814\n",
            "validation loss:  0.07769403\n",
            "validation accuracy:  98.80059970014993 %\n",
            "---------- Epoch :33/60 ----------\n",
            "learning rate:  0.0001\n"
          ]
        },
        {
          "output_type": "stream",
          "name": "stderr",
          "text": [
            "100%|██████████| 250/250 [00:01<00:00, 129.75it/s]\n"
          ]
        },
        {
          "output_type": "stream",
          "name": "stdout",
          "text": [
            "train loss:  0.042569857\n",
            "validation loss:  0.07193535\n",
            "validation accuracy:  98.80059970014993 %\n",
            "---------- Epoch :34/60 ----------\n",
            "learning rate:  0.0001\n"
          ]
        },
        {
          "output_type": "stream",
          "name": "stderr",
          "text": [
            "100%|██████████| 250/250 [00:02<00:00, 124.78it/s]\n"
          ]
        },
        {
          "output_type": "stream",
          "name": "stdout",
          "text": [
            "train loss:  0.0419213\n",
            "validation loss:  0.06905008\n",
            "validation accuracy:  99.10044977511244 %\n",
            "---------- Epoch :35/60 ----------\n",
            "learning rate:  0.0001\n"
          ]
        },
        {
          "output_type": "stream",
          "name": "stderr",
          "text": [
            "100%|██████████| 250/250 [00:01<00:00, 128.06it/s]\n"
          ]
        },
        {
          "output_type": "stream",
          "name": "stdout",
          "text": [
            "train loss:  0.04165998\n",
            "validation loss:  0.073382586\n",
            "validation accuracy:  98.95052473763118 %\n",
            "---------- Epoch :36/60 ----------\n",
            "learning rate:  0.0001\n"
          ]
        },
        {
          "output_type": "stream",
          "name": "stderr",
          "text": [
            "100%|██████████| 250/250 [00:02<00:00, 123.21it/s]\n"
          ]
        },
        {
          "output_type": "stream",
          "name": "stdout",
          "text": [
            "train loss:  0.04265609\n",
            "validation loss:  0.0748092\n",
            "validation accuracy:  98.7256371814093 %\n",
            "---------- Epoch :37/60 ----------\n",
            "learning rate:  0.0001\n"
          ]
        },
        {
          "output_type": "stream",
          "name": "stderr",
          "text": [
            "100%|██████████| 250/250 [00:02<00:00, 97.32it/s]\n"
          ]
        },
        {
          "output_type": "stream",
          "name": "stdout",
          "text": [
            "train loss:  0.04096244\n",
            "validation loss:  0.07150432\n",
            "validation accuracy:  98.87556221889055 %\n",
            "---------- Epoch :38/60 ----------\n",
            "learning rate:  0.0001\n"
          ]
        },
        {
          "output_type": "stream",
          "name": "stderr",
          "text": [
            "100%|██████████| 250/250 [00:03<00:00, 71.64it/s]\n"
          ]
        },
        {
          "output_type": "stream",
          "name": "stdout",
          "text": [
            "train loss:  0.038683433\n",
            "validation loss:  0.07346884\n",
            "validation accuracy:  98.87556221889055 %\n",
            "---------- Epoch :39/60 ----------\n",
            "learning rate:  1e-05\n"
          ]
        },
        {
          "output_type": "stream",
          "name": "stderr",
          "text": [
            "100%|██████████| 250/250 [00:01<00:00, 126.25it/s]\n"
          ]
        },
        {
          "output_type": "stream",
          "name": "stdout",
          "text": [
            "train loss:  0.037860386\n",
            "validation loss:  0.0723163\n",
            "validation accuracy:  99.10044977511244 %\n",
            "---------- Epoch :40/60 ----------\n",
            "learning rate:  1e-05\n"
          ]
        },
        {
          "output_type": "stream",
          "name": "stderr",
          "text": [
            "100%|██████████| 250/250 [00:01<00:00, 129.07it/s]\n"
          ]
        },
        {
          "output_type": "stream",
          "name": "stdout",
          "text": [
            "train loss:  0.035222862\n",
            "validation loss:  0.072389215\n",
            "validation accuracy:  98.95052473763118 %\n",
            "---------- Epoch :41/60 ----------\n",
            "learning rate:  1e-05\n"
          ]
        },
        {
          "output_type": "stream",
          "name": "stderr",
          "text": [
            "100%|██████████| 250/250 [00:01<00:00, 127.33it/s]\n"
          ]
        },
        {
          "output_type": "stream",
          "name": "stdout",
          "text": [
            "train loss:  0.03679003\n",
            "validation loss:  0.07341369\n",
            "validation accuracy:  98.95052473763118 %\n",
            "---------- Epoch :42/60 ----------\n",
            "learning rate:  1e-05\n"
          ]
        },
        {
          "output_type": "stream",
          "name": "stderr",
          "text": [
            "100%|██████████| 250/250 [00:01<00:00, 129.34it/s]\n"
          ]
        },
        {
          "output_type": "stream",
          "name": "stdout",
          "text": [
            "train loss:  0.037464887\n",
            "validation loss:  0.07299031\n",
            "validation accuracy:  98.87556221889055 %\n",
            "---------- Epoch :43/60 ----------\n",
            "learning rate:  1.0000000000000002e-06\n"
          ]
        },
        {
          "output_type": "stream",
          "name": "stderr",
          "text": [
            "100%|██████████| 250/250 [00:02<00:00, 101.03it/s]\n"
          ]
        },
        {
          "output_type": "stream",
          "name": "stdout",
          "text": [
            "train loss:  0.035243213\n",
            "validation loss:  0.0707364\n",
            "validation accuracy:  98.95052473763118 %\n",
            "---------- Epoch :44/60 ----------\n",
            "learning rate:  1.0000000000000002e-06\n"
          ]
        },
        {
          "output_type": "stream",
          "name": "stderr",
          "text": [
            "100%|██████████| 250/250 [00:03<00:00, 81.13it/s]\n"
          ]
        },
        {
          "output_type": "stream",
          "name": "stdout",
          "text": [
            "train loss:  0.035602957\n",
            "validation loss:  0.07174047\n",
            "validation accuracy:  98.95052473763118 %\n",
            "---------- Epoch :45/60 ----------\n",
            "learning rate:  1.0000000000000002e-06\n"
          ]
        },
        {
          "output_type": "stream",
          "name": "stderr",
          "text": [
            "100%|██████████| 250/250 [00:02<00:00, 93.32it/s] \n"
          ]
        },
        {
          "output_type": "stream",
          "name": "stdout",
          "text": [
            "train loss:  0.03562222\n",
            "validation loss:  0.07146362\n",
            "validation accuracy:  98.95052473763118 %\n",
            "---------- Epoch :46/60 ----------\n",
            "learning rate:  1.0000000000000002e-06\n"
          ]
        },
        {
          "output_type": "stream",
          "name": "stderr",
          "text": [
            "100%|██████████| 250/250 [00:01<00:00, 129.79it/s]\n"
          ]
        },
        {
          "output_type": "stream",
          "name": "stdout",
          "text": [
            "train loss:  0.035728466\n",
            "validation loss:  0.072246656\n",
            "validation accuracy:  98.95052473763118 %\n",
            "---------- Epoch :47/60 ----------\n",
            "learning rate:  1.0000000000000002e-07\n"
          ]
        },
        {
          "output_type": "stream",
          "name": "stderr",
          "text": [
            "100%|██████████| 250/250 [00:01<00:00, 128.94it/s]\n"
          ]
        },
        {
          "output_type": "stream",
          "name": "stdout",
          "text": [
            "train loss:  0.036523465\n",
            "validation loss:  0.06867862\n",
            "validation accuracy:  98.95052473763118 %\n",
            "---------- Epoch :48/60 ----------\n",
            "learning rate:  1.0000000000000002e-07\n"
          ]
        },
        {
          "output_type": "stream",
          "name": "stderr",
          "text": [
            "100%|██████████| 250/250 [00:01<00:00, 130.79it/s]\n"
          ]
        },
        {
          "output_type": "stream",
          "name": "stdout",
          "text": [
            "train loss:  0.037489623\n",
            "validation loss:  0.072333455\n",
            "validation accuracy:  99.10044977511244 %\n",
            "---------- Epoch :49/60 ----------\n",
            "learning rate:  1.0000000000000002e-07\n"
          ]
        },
        {
          "output_type": "stream",
          "name": "stderr",
          "text": [
            "100%|██████████| 250/250 [00:02<00:00, 119.03it/s]\n"
          ]
        },
        {
          "output_type": "stream",
          "name": "stdout",
          "text": [
            "train loss:  0.035031706\n",
            "validation loss:  0.07157588\n",
            "validation accuracy:  99.10044977511244 %\n",
            "---------- Epoch :50/60 ----------\n",
            "learning rate:  1.0000000000000002e-07\n"
          ]
        },
        {
          "output_type": "stream",
          "name": "stderr",
          "text": [
            "100%|██████████| 250/250 [00:02<00:00, 91.79it/s]\n"
          ]
        },
        {
          "output_type": "stream",
          "name": "stdout",
          "text": [
            "train loss:  0.038915426\n",
            "validation loss:  0.07006124\n",
            "validation accuracy:  99.10044977511244 %\n",
            "---------- Epoch :51/60 ----------\n",
            "learning rate:  1.0000000000000002e-07\n"
          ]
        },
        {
          "output_type": "stream",
          "name": "stderr",
          "text": [
            "100%|██████████| 250/250 [00:03<00:00, 74.69it/s]\n"
          ]
        },
        {
          "output_type": "stream",
          "name": "stdout",
          "text": [
            "train loss:  0.03699674\n",
            "validation loss:  0.073565096\n",
            "validation accuracy:  98.95052473763118 %\n",
            "---------- Epoch :52/60 ----------\n",
            "learning rate:  1.0000000000000004e-08\n"
          ]
        },
        {
          "output_type": "stream",
          "name": "stderr",
          "text": [
            "100%|██████████| 250/250 [00:01<00:00, 127.25it/s]\n"
          ]
        },
        {
          "output_type": "stream",
          "name": "stdout",
          "text": [
            "train loss:  0.036868382\n",
            "validation loss:  0.072873406\n",
            "validation accuracy:  98.95052473763118 %\n",
            "---------- Epoch :53/60 ----------\n",
            "learning rate:  1.0000000000000004e-08\n"
          ]
        },
        {
          "output_type": "stream",
          "name": "stderr",
          "text": [
            "100%|██████████| 250/250 [00:01<00:00, 128.34it/s]\n"
          ]
        },
        {
          "output_type": "stream",
          "name": "stdout",
          "text": [
            "train loss:  0.035696875\n",
            "validation loss:  0.069753736\n",
            "validation accuracy:  99.10044977511244 %\n",
            "---------- Epoch :54/60 ----------\n",
            "learning rate:  1.0000000000000004e-08\n"
          ]
        },
        {
          "output_type": "stream",
          "name": "stderr",
          "text": [
            "100%|██████████| 250/250 [00:01<00:00, 131.42it/s]\n"
          ]
        },
        {
          "output_type": "stream",
          "name": "stdout",
          "text": [
            "train loss:  0.036619216\n",
            "validation loss:  0.07012485\n",
            "validation accuracy:  99.10044977511244 %\n",
            "---------- Epoch :55/60 ----------\n",
            "learning rate:  1.0000000000000004e-08\n"
          ]
        },
        {
          "output_type": "stream",
          "name": "stderr",
          "text": [
            "100%|██████████| 250/250 [00:01<00:00, 128.39it/s]\n"
          ]
        },
        {
          "output_type": "stream",
          "name": "stdout",
          "text": [
            "train loss:  0.03508225\n",
            "validation loss:  0.07413797\n",
            "validation accuracy:  98.87556221889055 %\n",
            "---------- Epoch :56/60 ----------\n",
            "learning rate:  1.0000000000000004e-08\n"
          ]
        },
        {
          "output_type": "stream",
          "name": "stderr",
          "text": [
            "100%|██████████| 250/250 [00:02<00:00, 100.65it/s]\n"
          ]
        },
        {
          "output_type": "stream",
          "name": "stdout",
          "text": [
            "train loss:  0.03630732\n",
            "validation loss:  0.0713422\n",
            "validation accuracy:  98.95052473763118 %\n",
            "---------- Epoch :57/60 ----------\n",
            "learning rate:  1.0000000000000004e-08\n"
          ]
        },
        {
          "output_type": "stream",
          "name": "stderr",
          "text": [
            "100%|██████████| 250/250 [00:03<00:00, 75.70it/s]\n"
          ]
        },
        {
          "output_type": "stream",
          "name": "stdout",
          "text": [
            "train loss:  0.034368973\n",
            "validation loss:  0.06983441\n",
            "validation accuracy:  99.02548725637182 %\n",
            "---------- Epoch :58/60 ----------\n",
            "learning rate:  1.0000000000000004e-08\n"
          ]
        },
        {
          "output_type": "stream",
          "name": "stderr",
          "text": [
            "100%|██████████| 250/250 [00:02<00:00, 111.10it/s]\n"
          ]
        },
        {
          "output_type": "stream",
          "name": "stdout",
          "text": [
            "train loss:  0.0368677\n",
            "validation loss:  0.07219696\n",
            "validation accuracy:  98.95052473763118 %\n",
            "---------- Epoch :59/60 ----------\n",
            "learning rate:  1.0000000000000004e-08\n"
          ]
        },
        {
          "output_type": "stream",
          "name": "stderr",
          "text": [
            "100%|██████████| 250/250 [00:01<00:00, 128.95it/s]\n"
          ]
        },
        {
          "output_type": "stream",
          "name": "stdout",
          "text": [
            "train loss:  0.034745384\n",
            "validation loss:  0.07016882\n",
            "validation accuracy:  98.95052473763118 %\n",
            "---------- Epoch :60/60 ----------\n",
            "learning rate:  1.0000000000000004e-08\n"
          ]
        },
        {
          "output_type": "stream",
          "name": "stderr",
          "text": [
            "100%|██████████| 250/250 [00:01<00:00, 129.09it/s]\n"
          ]
        },
        {
          "output_type": "stream",
          "name": "stdout",
          "text": [
            "train loss:  0.037277028\n",
            "validation loss:  0.06990811\n",
            "validation accuracy:  98.80059970014993 %\n"
          ]
        }
      ],
      "source": [
        "min_val_losses = np.inf\n",
        "\n",
        "#training loop\n",
        "train_loss_epochs = []\n",
        "val_loss_epochs = []\n",
        "\n",
        "for epoch in range(0,num_epochs):\n",
        "  print('-'*10,f\"Epoch :{epoch+1}/{num_epochs}\",'-'*10)\n",
        "  print('learning rate: ',optimizer.param_groups[0][\"lr\"])\n",
        "  #train\n",
        "  losses=[]\n",
        "  model.train()\n",
        "  for imgs,labels in tqdm.tqdm(train_loader):\n",
        "    if torch.cuda.is_available():\n",
        "      imgs = imgs.cuda()\n",
        "      labels = labels.cuda()\n",
        "    #forward\n",
        "    preds = model(imgs.float())\n",
        "    optimizer.zero_grad()\n",
        "    loss = loss_fn(preds,labels)\n",
        "    loss.backward()\n",
        "    optimizer.step()\n",
        "\n",
        "    losses.append(loss.detach().cpu())\n",
        "  print('train loss: ',np.mean(losses))\n",
        "  train_loss_epochs.append(np.mean(losses))\n",
        "\n",
        "  #validation\n",
        "  val_losses=[]\n",
        "  model.eval()\n",
        "  true_preds_tot = 0\n",
        "  for imgs,labels in val_loader:\n",
        "    if torch.cuda.is_available():\n",
        "      imgs = imgs.cuda()\n",
        "      labels = labels.cuda()\n",
        "    preds = model(imgs.float())\n",
        "    val_loss = loss_fn(preds,labels)\n",
        "    val_losses.append(val_loss.detach().cpu())\n",
        "    true_preds = (torch.max(preds,axis=1).indices == labels).sum()\n",
        "    true_preds_tot += true_preds\n",
        "\n",
        "  scheduler.step(np.mean(val_losses))\n",
        "  print('validation loss: ',np.mean(val_losses))\n",
        "  print('validation accuracy: ',100*(true_preds_tot.cpu().numpy()/test_len_data),'%')\n",
        "\n",
        "  if np.mean(val_losses) < min_val_losses:\n",
        "    min_val_losses = np.mean(val_losses)\n",
        "    torch.save(model.state_dict(), 'best.pth')\n",
        "  val_loss_epochs.append(np.mean(val_losses))\n"
      ]
    },
    {
      "cell_type": "markdown",
      "source": [
        "## Saving ONNX Model"
      ],
      "metadata": {
        "id": "2EPLG8iqIwRK"
      }
    },
    {
      "cell_type": "code",
      "execution_count": 28,
      "metadata": {
        "id": "ZDhOYfgb72VM",
        "colab": {
          "base_uri": "https://localhost:8080/"
        },
        "outputId": "d9399ffd-592d-48e2-d25e-39afaaa9d48e"
      },
      "outputs": [
        {
          "output_type": "stream",
          "name": "stdout",
          "text": [
            "Collecting onnx\n",
            "  Downloading onnx-1.17.0-cp310-cp310-manylinux_2_17_x86_64.manylinux2014_x86_64.whl.metadata (16 kB)\n",
            "Requirement already satisfied: numpy>=1.20 in /usr/local/lib/python3.10/dist-packages (from onnx) (1.26.4)\n",
            "Requirement already satisfied: protobuf>=3.20.2 in /usr/local/lib/python3.10/dist-packages (from onnx) (4.25.5)\n",
            "Downloading onnx-1.17.0-cp310-cp310-manylinux_2_17_x86_64.manylinux2014_x86_64.whl (16.0 MB)\n",
            "\u001b[2K   \u001b[90m━━━━━━━━━━━━━━━━━━━━━━━━━━━━━━━━━━━━━━━━\u001b[0m \u001b[32m16.0/16.0 MB\u001b[0m \u001b[31m47.7 MB/s\u001b[0m eta \u001b[36m0:00:00\u001b[0m\n",
            "\u001b[?25hInstalling collected packages: onnx\n",
            "Successfully installed onnx-1.17.0\n"
          ]
        }
      ],
      "source": [
        "!pip install onnx"
      ]
    },
    {
      "cell_type": "code",
      "source": [
        "model.cpu()"
      ],
      "metadata": {
        "id": "h43U9oi2IGWC"
      },
      "execution_count": null,
      "outputs": []
    },
    {
      "cell_type": "code",
      "execution_count": 32,
      "metadata": {
        "colab": {
          "base_uri": "https://localhost:8080/"
        },
        "id": "7W6inUsY7quN",
        "outputId": "59e9a46b-24e3-4cad-c56b-66c95a19b75c"
      },
      "outputs": [
        {
          "output_type": "stream",
          "name": "stderr",
          "text": [
            "<ipython-input-32-b3cbf652d4ba>:4: FutureWarning: You are using `torch.load` with `weights_only=False` (the current default value), which uses the default pickle module implicitly. It is possible to construct malicious pickle data which will execute arbitrary code during unpickling (See https://github.com/pytorch/pytorch/blob/main/SECURITY.md#untrusted-models for more details). In a future release, the default value for `weights_only` will be flipped to `True`. This limits the functions that could be executed during unpickling. Arbitrary objects will no longer be allowed to be loaded via this mode unless they are explicitly allowlisted by the user via `torch.serialization.add_safe_globals`. We recommend you start setting `weights_only=True` for any use case where you don't have full control of the loaded file. Please open an issue on GitHub for any issues related to this experimental feature.\n",
            "  model.load_state_dict(torch.load('best.pth'))\n"
          ]
        }
      ],
      "source": [
        "model = ResNet(img_channels= 1,block=BasicBlock,num_classes = 8)\n",
        "\n",
        "if torch.cuda.is_available():\n",
        "  model.load_state_dict(torch.load('best.pth'))\n",
        "  model = model.cuda()\n",
        "else:\n",
        "  model.load_state_dict(torch.load('best.pth',map_location=torch.device('cpu') ))\n",
        "\n",
        "model.eval()\n",
        "torch.onnx.export(model.cpu(), torch.randn(1, 1, 128, 100, requires_grad=True), \"best.onnx\",opset_version=11,do_constant_folding=False)"
      ]
    },
    {
      "cell_type": "code",
      "execution_count": null,
      "metadata": {
        "id": "oD8kB26Z-dJo"
      },
      "outputs": [],
      "source": [
        "# copy best model to / from drive\n",
        "#!cp best.onnx '/content/drive/MyDrive/zindi/Audio Classification/'\n",
        "#!cp '/content/drive/MyDrive/zindi/Audio Classification/best.onnx' ./"
      ]
    },
    {
      "cell_type": "markdown",
      "source": [
        "## Apply On Test-set"
      ],
      "metadata": {
        "id": "1QpQCuItI1zY"
      }
    },
    {
      "cell_type": "code",
      "execution_count": 33,
      "metadata": {
        "colab": {
          "base_uri": "https://localhost:8080/"
        },
        "id": "PooVb1vsvZ_U",
        "outputId": "9b6cdece-4cb0-4f44-8274-defed2b14cc0"
      },
      "outputs": [
        {
          "output_type": "stream",
          "name": "stderr",
          "text": [
            "100%|██████████| 1334/1334 [00:01<00:00, 922.60it/s] "
          ]
        },
        {
          "output_type": "stream",
          "name": "stdout",
          "text": [
            "Code execution time: 1.46 seconds\n",
            "test accuracy:  98.95052473763118 %\n"
          ]
        },
        {
          "output_type": "stream",
          "name": "stderr",
          "text": [
            "\n"
          ]
        }
      ],
      "source": [
        "#re-validate\n",
        "import os\n",
        "os.sched_setaffinity(0,{0})\n",
        "os.environ[\"OPENBLAS_NUM_THREADS\"] = \"1\"\n",
        "os.environ[\"MKL_NUM_THREADS\"] = \"1\"\n",
        "os.environ[\"NUMEXPR_NUM_THREADS\"] = \"1\"\n",
        "os.environ[\"OPENBLAS_NUM_THREADS\"] = \"1\"\n",
        "import cv2\n",
        "cv2.setNumThreads(1)\n",
        "import time\n",
        "\n",
        "model = cv2.dnn.readNetFromONNX('best.onnx')\n",
        "\n",
        "start_time = time.time()\n",
        "\n",
        "\n",
        "all_preds = []\n",
        "all_labels = []\n",
        "for img,label in tqdm.tqdm(val_DataSet):\n",
        "  blob = cv2.dnn.blobFromImage(img[0,:,:].astype('float32'), 1, (100, 128))\n",
        "  model.setInput(blob)\n",
        "  pred = model.forward()[0]\n",
        "  all_preds.append(pred.argmax())\n",
        "  all_labels.append(label)\n",
        "\n",
        "end_time = time.time()\n",
        "execution_time = end_time - start_time\n",
        "\n",
        "print(f\"Code execution time: {execution_time:.2f} seconds\")\n",
        "\n",
        "acc = (np.array(all_preds)==np.array(all_labels)).sum()/len(all_preds)\n",
        "print('test accuracy: ',100*acc,'%')\n"
      ]
    },
    {
      "cell_type": "code",
      "execution_count": 34,
      "metadata": {
        "colab": {
          "base_uri": "https://localhost:8080/"
        },
        "id": "uzxDoVI3inJt",
        "outputId": "13233a5f-81d2-4d8c-d47a-10a12bd9cc0c"
      },
      "outputs": [
        {
          "output_type": "stream",
          "name": "stderr",
          "text": [
            "100%|██████████| 2946/2946 [00:14<00:00, 199.75it/s]"
          ]
        },
        {
          "output_type": "stream",
          "name": "stdout",
          "text": [
            "Code execution time: 14.77 seconds\n"
          ]
        },
        {
          "output_type": "stream",
          "name": "stderr",
          "text": [
            "\n"
          ]
        }
      ],
      "source": [
        "import numpy as np\n",
        "from numpy.lib.stride_tricks import as_strided\n",
        "import scipy.io.wavfile as wav\n",
        "import scipy\n",
        "from scipy.signal import resample\n",
        "import pandas as pd\n",
        "import cv2\n",
        "import time\n",
        "import tqdm\n",
        "import os\n",
        "\n",
        "os.sched_setaffinity(0,{0})\n",
        "os.environ[\"OPENBLAS_NUM_THREADS\"] = \"1\"\n",
        "os.environ[\"MKL_NUM_THREADS\"] = \"1\"\n",
        "os.environ[\"NUMEXPR_NUM_THREADS\"] = \"1\"\n",
        "os.environ[\"OPENBLAS_NUM_THREADS\"] = \"1\"\n",
        "cv2.setNumThreads(1)\n",
        "\n",
        "main_dir = '/content/'\n",
        "#main_dir =  '/storage/emulated/0/Android/data/org.qpython.qpy/files/'\n",
        "\n",
        "train_df = pd.read_csv(main_dir+'Train.csv')\n",
        "test_df = pd.read_csv(main_dir+'Test_1.csv')\n",
        "\n",
        "i_class_mapper =        {0:'left',\n",
        "                         1:'down',\n",
        "                         2:'go',\n",
        "                         3:'right',\n",
        "                         4:'up',\n",
        "                         5:'yes',\n",
        "                         6:'no',\n",
        "                         7:'stop'}\n",
        "\n",
        "\n",
        "def get_all_audio(data_dir):\n",
        "    raw_data = []\n",
        "    for sample_dir in data_dir:\n",
        "        sample_dir = main_dir + 'TechCabal Ewe Audio Files/' + sample_dir\n",
        "        _, y = wav.read(sample_dir)\n",
        "        raw_data.append(y)\n",
        "    return raw_data\n",
        "\n",
        "def process_audio_sample(y):\n",
        "    if y.dtype == np.int16:\n",
        "        y = y / 32768.0\n",
        "    elif y.dtype == np.int32:\n",
        "        y = y / 2147483648.0\n",
        "    elif y.dtype == np.uint8:\n",
        "        y = (y - 128) / 128.0\n",
        "    if y.ndim == 2:\n",
        "        y = y.mean(axis=1)\n",
        "    return  y\n",
        "\n",
        "model = cv2.dnn.readNetFromONNX(main_dir+'best.onnx')\n",
        "test_pathes = test_df.audio_filepath.values\n",
        "raw_data = get_all_audio(test_pathes)\n",
        "\n",
        "\n",
        "start_time = time.time()\n",
        "\n",
        "\n",
        "all_preds = []\n",
        "for sample_data in tqdm.tqdm(raw_data):\n",
        "    y = process_audio_sample(sample_data)\n",
        "    S = scipy.signal.spectrogram(y)[2]\n",
        "    img = cv2.resize(S,(100,128))\n",
        "\n",
        "\n",
        "    blob = cv2.dnn.blobFromImage(img.astype('float32'), 1, (100, 128))\n",
        "    model.setInput(blob)\n",
        "    pred = model.forward()[0]\n",
        "    all_preds.append(i_class_mapper[pred.argmax()])\n",
        "\n",
        "end_time = time.time()\n",
        "execution_time = end_time - start_time\n",
        "\n",
        "print(f\"Code execution time: {execution_time:.2f} seconds\")\n",
        "\n",
        "\n",
        "ss = pd.read_csv(main_dir +'SampleSubmission_1.csv')\n",
        "name_to_pred = dict(zip(test_df.id.values,all_preds))\n",
        "ss['class'] = ss.id.map(name_to_pred)\n",
        "ss.to_csv('submission.csv',index=False)"
      ]
    }
  ],
  "metadata": {
    "accelerator": "GPU",
    "colab": {
      "collapsed_sections": [
        "hwTx7MsqGAjX",
        "IrRbLtB6IgCe",
        "LMNFPSnHIndj",
        "YQHWv1euIsXn",
        "2EPLG8iqIwRK",
        "1QpQCuItI1zY"
      ],
      "gpuType": "T4",
      "provenance": [],
      "include_colab_link": true
    },
    "kernelspec": {
      "display_name": "Python 3",
      "name": "python3"
    },
    "language_info": {
      "name": "python"
    }
  },
  "nbformat": 4,
  "nbformat_minor": 0
}